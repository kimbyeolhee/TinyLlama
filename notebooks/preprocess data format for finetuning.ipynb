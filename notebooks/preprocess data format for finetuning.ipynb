{
 "cells": [
  {
   "cell_type": "markdown",
   "metadata": {},
   "source": [
    "# preprocess data"
   ]
  },
  {
   "cell_type": "code",
   "execution_count": 93,
   "metadata": {
    "ExecuteTime": {
     "end_time": "2023-09-20T05:09:18.967762Z",
     "start_time": "2023-09-20T05:09:18.653358Z"
    }
   },
   "outputs": [],
   "source": [
    "import os\n",
    "import pandas as pd\n",
    "from pathlib import Path\n",
    "import argparse\n",
    "from datasets import Dataset\n",
    "from omegaconf import OmegaConf"
   ]
  },
  {
   "cell_type": "code",
   "execution_count": 101,
   "metadata": {
    "ExecuteTime": {
     "end_time": "2023-09-21T07:48:53.923452Z",
     "start_time": "2023-09-21T07:48:53.916134Z"
    }
   },
   "outputs": [],
   "source": [
    "wd = Path.cwd().parent\n",
    "\n",
    "\"\"\"-------------------------- options --------------------------\"\"\"\n",
    "parser = argparse.ArgumentParser(description=\"Preprocess data for finetuning\")\n",
    "parser.add_argument(\"--config\", \"-c\", type=str, default=\"finetune_base_config\")\n",
    "\n",
    "args, _ = parser.parse_known_args()\n",
    "\n",
    "config = OmegaConf.load(\n",
    "    f\"{wd}/configs/{args.config}.yaml\"\n",
    ")"
   ]
  },
  {
   "cell_type": "code",
   "execution_count": 102,
   "metadata": {
    "ExecuteTime": {
     "end_time": "2023-09-21T07:48:54.447896Z",
     "start_time": "2023-09-21T07:48:54.209126Z"
    }
   },
   "outputs": [],
   "source": [
    "df = pd.read_csv(os.path.join(wd, config.data.rawdata_path))"
   ]
  },
  {
   "cell_type": "code",
   "execution_count": 103,
   "metadata": {
    "ExecuteTime": {
     "end_time": "2023-09-21T07:48:54.561130Z",
     "start_time": "2023-09-21T07:48:54.554301Z"
    }
   },
   "outputs": [
    {
     "data": {
      "text/html": [
       "<div>\n",
       "<style scoped>\n",
       "    .dataframe tbody tr th:only-of-type {\n",
       "        vertical-align: middle;\n",
       "    }\n",
       "\n",
       "    .dataframe tbody tr th {\n",
       "        vertical-align: top;\n",
       "    }\n",
       "\n",
       "    .dataframe thead th {\n",
       "        text-align: right;\n",
       "    }\n",
       "</style>\n",
       "<table border=\"1\" class=\"dataframe\">\n",
       "  <thead>\n",
       "    <tr style=\"text-align: right;\">\n",
       "      <th></th>\n",
       "      <th>index</th>\n",
       "      <th>PMID</th>\n",
       "      <th>text</th>\n",
       "      <th>questions</th>\n",
       "      <th>answers</th>\n",
       "    </tr>\n",
       "  </thead>\n",
       "  <tbody>\n",
       "    <tr>\n",
       "      <th>0</th>\n",
       "      <td>0</td>\n",
       "      <td>932188</td>\n",
       "      <td>Title: Hormone-fuel concentrations in anephric...</td>\n",
       "      <td>1. Can you provide a one-word answer for the h...</td>\n",
       "      <td>1. hormone that showed elevated levels in the ...</td>\n",
       "    </tr>\n",
       "    <tr>\n",
       "      <th>1</th>\n",
       "      <td>1</td>\n",
       "      <td>1000028</td>\n",
       "      <td>Title: Plasma prolactin response to L-dopa TRH...</td>\n",
       "      <td>1. Can L-dopa be used as a treatment for thyro...</td>\n",
       "      <td>1. Treatment for thyrotoxicosis to suppress pl...</td>\n",
       "    </tr>\n",
       "    <tr>\n",
       "      <th>2</th>\n",
       "      <td>2</td>\n",
       "      <td>100045</td>\n",
       "      <td>Title: The Morquio syndrome: neuropathology an...</td>\n",
       "      <td>Instructions:\\n\\n1. What is the specific enzym...</td>\n",
       "      <td>1. Specific enzymatic activity decreased in Mo...</td>\n",
       "    </tr>\n",
       "    <tr>\n",
       "      <th>3</th>\n",
       "      <td>3</td>\n",
       "      <td>1000469</td>\n",
       "      <td>Title: Assessment of serial carcinoembryonic a...</td>\n",
       "      <td>1. Can serial CEA assays alone be used as a su...</td>\n",
       "      <td>1. Can serial CEA assays alone be used as a su...</td>\n",
       "    </tr>\n",
       "    <tr>\n",
       "      <th>4</th>\n",
       "      <td>4</td>\n",
       "      <td>1000475</td>\n",
       "      <td>Title: Carcinoembryonic antigen (CEA) activity...</td>\n",
       "      <td>1. Can you provide the exact CEA activity leve...</td>\n",
       "      <td>1. CEA activity levels in plasma and pancreati...</td>\n",
       "    </tr>\n",
       "  </tbody>\n",
       "</table>\n",
       "</div>"
      ],
      "text/plain": [
       "   index     PMID                                               text  \\\n",
       "0      0   932188  Title: Hormone-fuel concentrations in anephric...   \n",
       "1      1  1000028  Title: Plasma prolactin response to L-dopa TRH...   \n",
       "2      2   100045  Title: The Morquio syndrome: neuropathology an...   \n",
       "3      3  1000469  Title: Assessment of serial carcinoembryonic a...   \n",
       "4      4  1000475  Title: Carcinoembryonic antigen (CEA) activity...   \n",
       "\n",
       "                                           questions  \\\n",
       "0  1. Can you provide a one-word answer for the h...   \n",
       "1  1. Can L-dopa be used as a treatment for thyro...   \n",
       "2  Instructions:\\n\\n1. What is the specific enzym...   \n",
       "3  1. Can serial CEA assays alone be used as a su...   \n",
       "4  1. Can you provide the exact CEA activity leve...   \n",
       "\n",
       "                                             answers  \n",
       "0  1. hormone that showed elevated levels in the ...  \n",
       "1  1. Treatment for thyrotoxicosis to suppress pl...  \n",
       "2  1. Specific enzymatic activity decreased in Mo...  \n",
       "3  1. Can serial CEA assays alone be used as a su...  \n",
       "4  1. CEA activity levels in plasma and pancreati...  "
      ]
     },
     "execution_count": 103,
     "metadata": {},
     "output_type": "execute_result"
    }
   ],
   "source": [
    "df.head()"
   ]
  },
  {
   "cell_type": "code",
   "execution_count": 104,
   "metadata": {
    "ExecuteTime": {
     "end_time": "2023-09-21T07:48:55.269027Z",
     "start_time": "2023-09-21T07:48:55.266076Z"
    }
   },
   "outputs": [
    {
     "data": {
      "text/plain": [
       "'1. What are the specific mediators released by activated alveolar macrophages in lung injury associated with experimental acute pancreatitis?\\n2. Can you provide a one-word answer to describe the role of the liver in activating alveolar macrophages during acute pancreatitis-induced lung injury?\\n3. How can the activation of alveolar macrophages be prevented in the context of experimental acute pancreatitis?\\n4. Please describe the time frame within which neutrophil infiltration into the lungs is observed after induction of acute pancreatitis.\\n5. Is leukotriene B4 released by alveolar macrophages during lung injury in acute pancreatitis? (Yes/No question)'"
      ]
     },
     "execution_count": 104,
     "metadata": {},
     "output_type": "execute_result"
    }
   ],
   "source": [
    "df.iloc[216][\"questions\"]"
   ]
  },
  {
   "cell_type": "code",
   "execution_count": 71,
   "metadata": {
    "ExecuteTime": {
     "end_time": "2023-09-20T04:57:12.490690Z",
     "start_time": "2023-09-20T04:57:12.407180Z"
    }
   },
   "outputs": [],
   "source": [
    "if \"index\" in df.columns:\n",
    "    df.drop(\"index\", axis=1, inplace=True)\n",
    "if \"PMID\" in df.columns:\n",
    "    df.drop(\"PMID\", axis=1, inplace=True)\n",
    "\n",
    "\n",
    "df[\"questions\"] = df[\"questions\"].apply(lambda x: x.split(\"2.\")[0].replace(\"1. \", \"\").replace(\"\\n\", \"\"))\n",
    "df[\"answers\"] = df[\"answers\"].apply(lambda x: x.split(\"2.\")[0].replace(\"1. \", \"\").replace(\"\\n\", \"\"))\n",
    "df[\"text\"] = df[\"text\"].apply(lambda x: x.replace(\"Title: \", \"\").replace(\"Abstract: \", \"\").replace(\"\\n\", \"\"))\n",
    "\n",
    "df.rename(columns={\"text\":\"context\"}, inplace=True)\n",
    "df.rename(columns={\"questions\":\"question\"}, inplace=True)\n",
    "df.rename(columns={\"answers\":\"answer\"}, inplace=True)"
   ]
  },
  {
   "cell_type": "code",
   "execution_count": 72,
   "metadata": {
    "ExecuteTime": {
     "end_time": "2023-09-20T04:57:13.305558Z",
     "start_time": "2023-09-20T04:57:13.299400Z"
    }
   },
   "outputs": [
    {
     "data": {
      "text/html": [
       "<div>\n",
       "<style scoped>\n",
       "    .dataframe tbody tr th:only-of-type {\n",
       "        vertical-align: middle;\n",
       "    }\n",
       "\n",
       "    .dataframe tbody tr th {\n",
       "        vertical-align: top;\n",
       "    }\n",
       "\n",
       "    .dataframe thead th {\n",
       "        text-align: right;\n",
       "    }\n",
       "</style>\n",
       "<table border=\"1\" class=\"dataframe\">\n",
       "  <thead>\n",
       "    <tr style=\"text-align: right;\">\n",
       "      <th></th>\n",
       "      <th>context</th>\n",
       "      <th>question</th>\n",
       "      <th>answer</th>\n",
       "    </tr>\n",
       "  </thead>\n",
       "  <tbody>\n",
       "    <tr>\n",
       "      <th>0</th>\n",
       "      <td>Hormone-fuel concentrations in anephric subjec...</td>\n",
       "      <td>Can you provide a one-word answer for the horm...</td>\n",
       "      <td>hormone that showed elevated levels in the art...</td>\n",
       "    </tr>\n",
       "    <tr>\n",
       "      <th>1</th>\n",
       "      <td>Plasma prolactin response to L-dopa TRH and me...</td>\n",
       "      <td>Can L-dopa be used as a treatment for thyrotox...</td>\n",
       "      <td>Treatment for thyrotoxicosis to suppress plasm...</td>\n",
       "    </tr>\n",
       "    <tr>\n",
       "      <th>2</th>\n",
       "      <td>The Morquio syndrome: neuropathology and bioch...</td>\n",
       "      <td>Instructions:What is the specific enzymatic ac...</td>\n",
       "      <td>Specific enzymatic activity decreased in Morqu...</td>\n",
       "    </tr>\n",
       "    <tr>\n",
       "      <th>3</th>\n",
       "      <td>Assessment of serial carcinoembryonic antigen ...</td>\n",
       "      <td>Can serial CEA assays alone be used as a subst...</td>\n",
       "      <td>Can serial CEA assays alone be used as a subst...</td>\n",
       "    </tr>\n",
       "    <tr>\n",
       "      <th>4</th>\n",
       "      <td>Carcinoembryonic antigen (CEA) activity in pan...</td>\n",
       "      <td>Can you provide the exact CEA activity levels ...</td>\n",
       "      <td>CEA activity levels in plasma and pancreatic j...</td>\n",
       "    </tr>\n",
       "  </tbody>\n",
       "</table>\n",
       "</div>"
      ],
      "text/plain": [
       "                                             context  \\\n",
       "0  Hormone-fuel concentrations in anephric subjec...   \n",
       "1  Plasma prolactin response to L-dopa TRH and me...   \n",
       "2  The Morquio syndrome: neuropathology and bioch...   \n",
       "3  Assessment of serial carcinoembryonic antigen ...   \n",
       "4  Carcinoembryonic antigen (CEA) activity in pan...   \n",
       "\n",
       "                                            question  \\\n",
       "0  Can you provide a one-word answer for the horm...   \n",
       "1  Can L-dopa be used as a treatment for thyrotox...   \n",
       "2  Instructions:What is the specific enzymatic ac...   \n",
       "3  Can serial CEA assays alone be used as a subst...   \n",
       "4  Can you provide the exact CEA activity levels ...   \n",
       "\n",
       "                                              answer  \n",
       "0  hormone that showed elevated levels in the art...  \n",
       "1  Treatment for thyrotoxicosis to suppress plasm...  \n",
       "2  Specific enzymatic activity decreased in Morqu...  \n",
       "3  Can serial CEA assays alone be used as a subst...  \n",
       "4  CEA activity levels in plasma and pancreatic j...  "
      ]
     },
     "execution_count": 72,
     "metadata": {},
     "output_type": "execute_result"
    }
   ],
   "source": [
    "df.head()"
   ]
  },
  {
   "cell_type": "code",
   "execution_count": 89,
   "metadata": {
    "ExecuteTime": {
     "end_time": "2023-09-20T05:01:28.309036Z",
     "start_time": "2023-09-20T05:01:28.117322Z"
    }
   },
   "outputs": [],
   "source": [
    "if not os.path.exists(os.path.join(wd, \"data/preprocessed\")):\n",
    "    os.makedirs(os.path.join(wd, \"data/preprocessed\"))\n",
    "\n",
    "df.to_csv(os.path.join(wd, \"data/preprocessed\", config.data.rawdata_path.split(\"/\")[-1].replace(\".csv\", \"\") + \"_preprocessed.csv\"), index=False)"
   ]
  },
  {
   "cell_type": "markdown",
   "metadata": {},
   "source": [
    "# upload dataset on huggingface"
   ]
  },
  {
   "cell_type": "code",
   "execution_count": 98,
   "metadata": {
    "ExecuteTime": {
     "end_time": "2023-09-20T05:14:43.982210Z",
     "start_time": "2023-09-20T05:14:43.968454Z"
    }
   },
   "outputs": [
    {
     "data": {
      "application/vnd.jupyter.widget-view+json": {
       "model_id": "67aed139457a421599c70251c8b8c9d3",
       "version_major": 2,
       "version_minor": 0
      },
      "text/plain": [
       "VBox(children=(HTML(value='<center> <img\\nsrc=https://huggingface.co/front/assets/huggingface_logo-noborder.sv…"
      ]
     },
     "metadata": {},
     "output_type": "display_data"
    }
   ],
   "source": [
    "from huggingface_hub import notebook_login\n",
    "\n",
    "notebook_login()"
   ]
  },
  {
   "cell_type": "code",
   "execution_count": 91,
   "metadata": {
    "ExecuteTime": {
     "end_time": "2023-09-20T05:07:45.565414Z",
     "start_time": "2023-09-20T05:07:45.447111Z"
    }
   },
   "outputs": [],
   "source": [
    "df = pd.read_csv(wd / \"data\" / \"preprocessed\" / \"evidence_1_preprocessed.csv\")"
   ]
  },
  {
   "cell_type": "code",
   "execution_count": 94,
   "metadata": {
    "ExecuteTime": {
     "end_time": "2023-09-20T05:09:26.863755Z",
     "start_time": "2023-09-20T05:09:26.821504Z"
    }
   },
   "outputs": [],
   "source": [
    "dataset = Dataset.from_pandas(df)"
   ]
  },
  {
   "cell_type": "code",
   "execution_count": 99,
   "metadata": {
    "ExecuteTime": {
     "end_time": "2023-09-20T05:15:17.679174Z",
     "start_time": "2023-09-20T05:15:07.630172Z"
    }
   },
   "outputs": [
    {
     "data": {
      "application/vnd.jupyter.widget-view+json": {
       "model_id": "0f08db64e75c4d01a45bfa13e37bfe26",
       "version_major": 2,
       "version_minor": 0
      },
      "text/plain": [
       "Pushing dataset shards to the dataset hub:   0%|          | 0/1 [00:00<?, ?it/s]"
      ]
     },
     "metadata": {},
     "output_type": "display_data"
    },
    {
     "data": {
      "application/vnd.jupyter.widget-view+json": {
       "model_id": "97e8dce1525f43ff98b38dbb35bd1dce",
       "version_major": 2,
       "version_minor": 0
      },
      "text/plain": [
       "Upload 1 LFS files:   0%|          | 0/1 [00:00<?, ?it/s]"
      ]
     },
     "metadata": {},
     "output_type": "display_data"
    }
   ],
   "source": [
    "dataset.push_to_hub(\"StoneSeller/OpenTarget_pubmed_qa_sample\", private=True)"
   ]
  },
  {
   "cell_type": "code",
   "execution_count": null,
   "metadata": {},
   "outputs": [],
   "source": []
  }
 ],
 "metadata": {
  "kernelspec": {
   "display_name": "Python 3",
   "language": "python",
   "name": "python3"
  },
  "language_info": {
   "codemirror_mode": {
    "name": "ipython",
    "version": 3
   },
   "file_extension": ".py",
   "mimetype": "text/x-python",
   "name": "python",
   "nbconvert_exporter": "python",
   "pygments_lexer": "ipython3",
   "version": "3.8.10"
  },
  "toc": {
   "base_numbering": 1,
   "nav_menu": {},
   "number_sections": true,
   "sideBar": true,
   "skip_h1_title": false,
   "title_cell": "Table of Contents",
   "title_sidebar": "Contents",
   "toc_cell": false,
   "toc_position": {},
   "toc_section_display": true,
   "toc_window_display": false
  }
 },
 "nbformat": 4,
 "nbformat_minor": 4
}
